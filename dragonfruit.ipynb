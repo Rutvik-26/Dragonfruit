{
 "cells": [
  {
   "cell_type": "code",
   "execution_count": 35,
   "metadata": {},
   "outputs": [
    {
     "data": {
      "image/png": "[encoded data removed]",
      "text/plain": [
       "<Figure size 432x288 with 1 Axes>"
      ]
     },
     "metadata": {
      "needs_background": "light"
     },
     "output_type": "display_data"
    }
   ],
   "source": [
    "import numpy as np\n",
    "import matplotlib.pyplot as plt\n",
    "import random\n",
    "\n",
    "# Function to create a microbe image in my data structure\n",
    "def create_image(n,m, density):\n",
    "    microbe_size = int(n*m*density)\n",
    "    image = [[0 for _ in range(n)] for _ in range(m)]\n",
    "    my_image = []\n",
    "    expandable_sites = []\n",
    "    \n",
    "    start_site = (random.randint(m//5, (4*m)//5), random.randint(n//5, (4*n)//5))\n",
    "    image[start_site[0]][start_site[1]] = 1 \n",
    "    my_image.append(start_site)\n",
    "    expandable_sites.append(start_site)\n",
    "\n",
    "\n",
    "\n",
    "    R = [-1,-1,-1,0,0,1,1,1]\n",
    "    C = [-1,0,1,-1,1,-1,0,1]\n",
    "    while (microbe_size>0):\n",
    "        idx = random.randint(len(expandable_sites)*(4//5), len(expandable_sites)-1)\n",
    "        a, b = expandable_sites[idx]\n",
    "        next_expandable_sites = []\n",
    "        for i in range(8):\n",
    "            if a+R[i]>=0 and a+R[i]<m and b+C[i]>=0 and b+C[i]<n and image[a+R[i]][b+C[i]] == 0:\n",
    "                next_expandable_sites.append((a+R[i],b+C[i]))\n",
    "        if next_expandable_sites==[]:\n",
    "            expandable_sites.pop(idx)\n",
    "        else:\n",
    "            next_expanded_site = random.choice(next_expandable_sites)\n",
    "            image[next_expanded_site[0]][next_expanded_site[1]] = 1 \n",
    "            my_image.append(next_expanded_site)\n",
    "            expandable_sites.append(next_expanded_site)\n",
    "            \n",
    "            microbe_size -= 1\n",
    "    my_image.sort()\n",
    "\n",
    "    return image, my_image\n",
    "\n",
    "# Function to show a microbe image\n",
    "def matrix_to_image(matrix):\n",
    "    plt.imshow(matrix, cmap='binary', interpolation='nearest')\n",
    "    plt.axis('off')  \n",
    "    plt.show()\n",
    "\n",
    "\n",
    "# Example usage:\n",
    "image, my_image = create_image(100, 100, 0.25)\n",
    "matrix_to_image(image)\n",
    "    "
   ]
  },
  {
   "cell_type": "code",
   "execution_count": 36,
   "metadata": {},
   "outputs": [
    {
     "data": {
      "image/png": "[encoded data removed]",
      "text/plain": [
       "<Figure size 432x288 with 1 Axes>"
      ]
     },
     "metadata": {
      "needs_background": "light"
     },
     "output_type": "display_data"
    },
    {
     "data": {
      "image/png": "[encoded data removed]",
      "text/plain": [
       "<Figure size 432x288 with 1 Axes>"
      ]
     },
     "metadata": {
      "needs_background": "light"
     },
     "output_type": "display_data"
    },
    {
     "name": "stdout",
     "output_type": "stream",
     "text": [
      "Parasite has cancer\n"
     ]
    }
   ],
   "source": [
    "# given Microscope image and Dye image detects whether a parasite has cancer or not\n",
    "def cancer_detection(Microscope_image, DyeSensor_image):\n",
    "    count = 0\n",
    "    for i in range(len(Microscope_image)):\n",
    "        a, b = Microscope_image[i]\n",
    "        for j in range(len(DyeSensor_image)):\n",
    "            c, d = DyeSensor_image[j]\n",
    "            if a == c and b == d:\n",
    "                count += 1\n",
    "                break\n",
    "\n",
    "    if (count >= 0.1*len(Microscope_image)):\n",
    "        print(\"Parasite has cancer\")\n",
    "    else:\n",
    "        print(\"Parasite doesn't have cancer\")\n",
    "\n",
    "# Example usage:\n",
    "image1, Microscope_image  = create_image(100, 100, 0.25)\n",
    "image2, DyeSensor_image = create_image(100, 100, 0.10)\n",
    "matrix_to_image(image1)\n",
    "matrix_to_image(image2)\n",
    "\n",
    "cancer_detection(Microscope_image, DyeSensor_image)\n"
   ]
  },
  {
   "cell_type": "code",
   "execution_count": 37,
   "metadata": {},
   "outputs": [
    {
     "data": {
      "image/png": "[encoded data removed]",
      "text/plain": [
       "<Figure size 432x288 with 1 Axes>"
      ]
     },
     "metadata": {
      "needs_background": "light"
     },
     "output_type": "display_data"
    },
    {
     "data": {
      "image/png": "[encoded data removed]",
      "text/plain": [
       "<Figure size 432x288 with 1 Axes>"
      ]
     },
     "metadata": {
      "needs_background": "light"
     },
     "output_type": "display_data"
    },
    {
     "name": "stdout",
     "output_type": "stream",
     "text": [
      "Parasite doesn't have cancer\n"
     ]
    }
   ],
   "source": [
    "# optimisation of above cancer_detection function\n",
    "def cancer_detection_opt(Microscope_image, DyeSensor_image):\n",
    "    count = 0\n",
    "    i = 0\n",
    "    j = 0\n",
    "    while i < len(Microscope_image) and j < len(DyeSensor_image):\n",
    "        a, b = Microscope_image[i]\n",
    "        c, d = DyeSensor_image[j]\n",
    "        if a == c and b == d:\n",
    "            count += 1\n",
    "            i += 1\n",
    "            j += 1\n",
    "        elif a < c or (a == c and b < d):\n",
    "            i += 1\n",
    "        else:\n",
    "            j += 1\n",
    "    if (count >= 0.1*len(Microscope_image)):\n",
    "        print(\"Parasite has cancer\")\n",
    "    else:\n",
    "        print(\"Parasite doesn't have cancer\")\n",
    "\n",
    "# Example usage:\n",
    "image1, Microscope_image  = create_image(100, 100, 0.25)\n",
    "image2, DyeSensor_image = create_image(100, 100, 0.10)\n",
    "matrix_to_image(image1)\n",
    "matrix_to_image(image2)\n",
    "\n",
    "cancer_detection_opt(Microscope_image, DyeSensor_image)\n"
   ]
  }
 ],
 "metadata": {
  "kernelspec": {
   "display_name": "Python 3",
   "language": "python",
   "name": "python3"
  },
  "language_info": {
   "codemirror_mode": {
    "name": "ipython",
    "version": 3
   },
   "file_extension": ".py",
   "mimetype": "text/x-python",
   "name": "python",
   "nbconvert_exporter": "python",
   "pygments_lexer": "ipython3",
   "version": "3.10.12"
  }
 },
 "nbformat": 4,
 "nbformat_minor": 2
}
